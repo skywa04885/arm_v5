{
 "cells": [
  {
   "cell_type": "code",
   "execution_count": 1,
   "metadata": {},
   "outputs": [],
   "source": [
    "import sympy"
   ]
  },
  {
   "cell_type": "code",
   "execution_count": 8,
   "metadata": {},
   "outputs": [],
   "source": [
    "pitch, yaw, cx, cy, cz, r = sympy.symbols('theta_0, theta_1, c_x, c_y, c_z, r')"
   ]
  },
  {
   "cell_type": "code",
   "execution_count": 9,
   "metadata": {},
   "outputs": [],
   "source": [
    "R_pitch = sympy.rot_axis1(pitch)\n",
    "R_yaw = sympy.rot_axis2(yaw)\n",
    "\n",
    "R = R_pitch * R_yaw"
   ]
  },
  {
   "cell_type": "code",
   "execution_count": 10,
   "metadata": {},
   "outputs": [
    {
     "data": {
      "text/latex": [
       "$\\displaystyle \\left[\\begin{matrix}\\cos{\\left(\\theta_{1} \\right)} & 0 & - \\sin{\\left(\\theta_{1} \\right)}\\\\\\sin{\\left(\\theta_{0} \\right)} \\sin{\\left(\\theta_{1} \\right)} & \\cos{\\left(\\theta_{0} \\right)} & \\sin{\\left(\\theta_{0} \\right)} \\cos{\\left(\\theta_{1} \\right)}\\\\\\sin{\\left(\\theta_{1} \\right)} \\cos{\\left(\\theta_{0} \\right)} & - \\sin{\\left(\\theta_{0} \\right)} & \\cos{\\left(\\theta_{0} \\right)} \\cos{\\left(\\theta_{1} \\right)}\\end{matrix}\\right]$"
      ],
      "text/plain": [
       "Matrix([\n",
       "[             cos(theta_1),             0,             -sin(theta_1)],\n",
       "[sin(theta_0)*sin(theta_1),  cos(theta_0), sin(theta_0)*cos(theta_1)],\n",
       "[sin(theta_1)*cos(theta_0), -sin(theta_0), cos(theta_0)*cos(theta_1)]])"
      ]
     },
     "execution_count": 10,
     "metadata": {},
     "output_type": "execute_result"
    }
   ],
   "source": []
  },
  {
   "cell_type": "code",
   "execution_count": null,
   "metadata": {},
   "outputs": [],
   "source": []
  }
 ],
 "metadata": {
  "kernelspec": {
   "display_name": "Python 3",
   "language": "python",
   "name": "python3"
  },
  "language_info": {
   "codemirror_mode": {
    "name": "ipython",
    "version": 3
   },
   "file_extension": ".py",
   "mimetype": "text/x-python",
   "name": "python",
   "nbconvert_exporter": "python",
   "pygments_lexer": "ipython3",
   "version": "3.11.8"
  }
 },
 "nbformat": 4,
 "nbformat_minor": 2
}
